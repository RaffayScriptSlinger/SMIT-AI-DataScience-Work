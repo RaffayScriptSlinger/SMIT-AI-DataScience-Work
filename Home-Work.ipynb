{
 "cells": [
  {
   "cell_type": "code",
   "execution_count": null,
   "id": "17b0aff0-9646-48ec-9ea1-2060a44e14ee",
   "metadata": {},
   "outputs": [],
   "source": [
    "def copy_list(lst):\n",
    "    new_list = []\n",
    "    for item in lst:\n",
    "        new_list.append(item)\n",
    "    return new_list\n"
   ]
  },
  {
   "cell_type": "code",
   "execution_count": null,
   "id": "11818cbe-d305-46c8-bc18-c6a65a18950f",
   "metadata": {},
   "outputs": [],
   "source": [
    "a = [1,2,3]\n",
    "b =  copy_list(a)"
   ]
  },
  {
   "cell_type": "code",
   "execution_count": null,
   "id": "8418613a-8fbb-4845-838f-2615ce09ea5c",
   "metadata": {},
   "outputs": [
    {
     "data": {
      "text/plain": [
       "[1, 2, 3]"
      ]
     },
     "execution_count": 4,
     "metadata": {},
     "output_type": "execute_result"
    }
   ],
   "source": [
    "b"
   ]
  },
  {
   "cell_type": "code",
   "execution_count": null,
   "id": "86f89100-1a6c-47e9-a911-4c1da26bf68e",
   "metadata": {},
   "outputs": [],
   "source": [
    "def find_index(lst, value):\n",
    "    for i in range(len(lst)):\n",
    "        if lst[i] == value:\n",
    "            return i\n",
    "    return -1  \n"
   ]
  },
  {
   "cell_type": "code",
   "execution_count": null,
   "id": "c77592b6-b4e6-408a-aff9-7fcc81a901b5",
   "metadata": {},
   "outputs": [
    {
     "name": "stdout",
     "output_type": "stream",
     "text": [
      "0\n"
     ]
    }
   ],
   "source": [
    "nums = [10, 20, 30, 40]\n",
    "print(find_index(nums, 10)) \n"
   ]
  },
  {
   "cell_type": "code",
   "execution_count": null,
   "id": "7a2d217f-c4bc-4bbe-837c-c2730dcb5d83",
   "metadata": {},
   "outputs": [],
   "source": [
    "def reverse_list(lst):\n",
    "    rev = []\n",
    "    for i in range(len(lst)-1, -1, -1):\n",
    "        rev.append(lst[i])\n",
    "    return rev\n"
   ]
  },
  {
   "cell_type": "code",
   "execution_count": null,
   "id": "4df00cd7-e692-4c8c-9503-9d95334a80b1",
   "metadata": {},
   "outputs": [
    {
     "name": "stdout",
     "output_type": "stream",
     "text": [
      "[4, 3, 2, 1]\n"
     ]
    }
   ],
   "source": [
    "print(reverse_list([1, 2, 3, 4]))  \n"
   ]
  },
  {
   "cell_type": "code",
   "execution_count": null,
   "id": "f9a89d44-1e91-4a75-bfc5-38018ecf370b",
   "metadata": {},
   "outputs": [],
   "source": [
    "def sort_list(lst):\n",
    "    for i in range(len(lst)):\n",
    "        for j in range(i+1, len(lst)):\n",
    "            if lst[i] > lst[j]:\n",
    "                lst[i], lst[j] = lst[j], lst[i]\n",
    "    return lst\n"
   ]
  },
  {
   "cell_type": "code",
   "execution_count": null,
   "id": "36685187-29e4-49c4-b361-c1a566471496",
   "metadata": {},
   "outputs": [
    {
     "name": "stdout",
     "output_type": "stream",
     "text": [
      "[1, 2, 5, 8]\n"
     ]
    }
   ],
   "source": [
    "print(sort_list([5, 2, 8, 1]))  "
   ]
  },
  {
   "cell_type": "code",
   "execution_count": null,
   "id": "4b880336-9a6e-4d7f-90dd-480f18a4d43c",
   "metadata": {},
   "outputs": [],
   "source": []
  }
 ],
 "metadata": {
  "kernelspec": {
   "display_name": "Python 3 (ipykernel)",
   "language": "python",
   "name": "python3"
  },
  "language_info": {
   "codemirror_mode": {
    "name": "ipython",
    "version": 3
   },
   "file_extension": ".py",
   "mimetype": "text/x-python",
   "name": "python",
   "nbconvert_exporter": "python",
   "pygments_lexer": "ipython3",
   "version": "3.13.5"
  }
 },
 "nbformat": 4,
 "nbformat_minor": 5
}
