{
 "cells": [
  {
   "cell_type": "code",
   "execution_count": 9,
   "id": "e7fb96d1-6f05-4df7-9489-4c15ca0d68a6",
   "metadata": {},
   "outputs": [
    {
     "name": "stdout",
     "output_type": "stream",
     "text": [
      "1\n",
      "2\n",
      "3\n",
      "4\n",
      "5\n",
      "6\n"
     ]
    }
   ],
   "source": [
    "i = 1 \n",
    "while(i <= 6):\n",
    "     print(i)\n",
    "     i += 1"
   ]
  },
  {
   "cell_type": "code",
   "execution_count": 1,
   "id": "06155f5f-24c1-4d00-864d-a0e73e6f6723",
   "metadata": {},
   "outputs": [
    {
     "name": "stdin",
     "output_type": "stream",
     "text": [
      "Enter Item Name  Raffay\n",
      "Enter Item Name  Sharjeel\n",
      "Enter Item Name  Shayan\n",
      "Enter Item Name  \n"
     ]
    }
   ],
   "source": [
    "lst = []\n",
    "while True:\n",
    "    input_ = input(\"Enter Item Name \")\n",
    "    if input_ == \"\":\n",
    "        break\n",
    "        print(\"Thanks For Using lst\")\n",
    "    else:\n",
    "        lst.append(input_)\n",
    "        \n",
    "        "
   ]
  },
  {
   "cell_type": "code",
   "execution_count": 2,
   "id": "aabc06d7-b45d-4ca8-b3c3-eb683a95eedb",
   "metadata": {},
   "outputs": [
    {
     "name": "stdin",
     "output_type": "stream",
     "text": [
      "Enter Item Name  Raffay\n",
      "Enter Item Name  Shayan\n",
      "Enter Item Name  Sharjeel\n",
      "Enter Item Name  \n"
     ]
    },
    {
     "name": "stdout",
     "output_type": "stream",
     "text": [
      "Thanks For Using lst\n"
     ]
    }
   ],
   "source": [
    "lst = []\n",
    "flag = True\n",
    "while flag:\n",
    "    input_ = input(\"Enter Item Name \")\n",
    "    if input_ == \"\":\n",
    "        flag = False\n",
    "        print(\"Thanks For Using lst\")\n",
    "    else:\n",
    "        lst.append(input_)\n",
    "        \n",
    "        "
   ]
  },
  {
   "cell_type": "markdown",
   "id": "6a94718f-d30a-4be9-9e5b-8b35ffe5af82",
   "metadata": {},
   "source": [
    "### Table of 2 with While Loop"
   ]
  },
  {
   "cell_type": "code",
   "execution_count": 4,
   "id": "68c636f2-2907-44bc-8660-c576c3a2c976",
   "metadata": {},
   "outputs": [
    {
     "name": "stdout",
     "output_type": "stream",
     "text": [
      "2\n",
      "4\n",
      "6\n",
      "8\n",
      "10\n",
      "12\n",
      "14\n",
      "16\n",
      "18\n",
      "20\n"
     ]
    }
   ],
   "source": [
    "table = 2 \n",
    "table_Length = 1\n",
    "\n",
    "while table_Length <= 10:\n",
    "    print(table * table_Length )\n",
    "    table_Length += 1\n",
    "    "
   ]
  },
  {
   "cell_type": "code",
   "execution_count": 12,
   "id": "4c6ba94d-205f-454e-a445-2dcba3ea7eaa",
   "metadata": {},
   "outputs": [
    {
     "name": "stdin",
     "output_type": "stream",
     "text": [
      "Match A num 5\n"
     ]
    },
    {
     "name": "stdout",
     "output_type": "stream",
     "text": [
      "Try Again\n"
     ]
    },
    {
     "name": "stdin",
     "output_type": "stream",
     "text": [
      "Match A num 10\n"
     ]
    },
    {
     "name": "stdout",
     "output_type": "stream",
     "text": [
      "Congratulation You Matched The Number \n"
     ]
    }
   ],
   "source": [
    "varNum = 10\n",
    "flag = True\n",
    "while flag:\n",
    "    userNum = int(input(\"Match A num\"))\n",
    "    if varNum == userNum: \n",
    "        print(\"Congratulation You Matched The Number \")\n",
    "        break\n",
    "    else:\n",
    "        print(\"Try Again\")\n",
    "        continue\n",
    "        \n",
    "    "
   ]
  },
  {
   "cell_type": "code",
   "execution_count": 2,
   "id": "dc4e60aa-e6a2-43ca-bcb8-68a831aa13f1",
   "metadata": {},
   "outputs": [
    {
     "name": "stdout",
     "output_type": "stream",
     "text": [
      "🎯 Welcome to the Guess the Number Game!\n",
      "\n",
      "Choose difficulty level:\n",
      "1. Easy (1–50)\n",
      "2. Hard (1–500)\n"
     ]
    },
    {
     "name": "stdin",
     "output_type": "stream",
     "text": [
      "Enter 1 for Easy or 2 for Hard:  1\n"
     ]
    },
    {
     "name": "stdout",
     "output_type": "stream",
     "text": [
      "\n",
      "You chose Easy mode! Guess a number between 1 and 50.\n"
     ]
    },
    {
     "name": "stdin",
     "output_type": "stream",
     "text": [
      "\n",
      "Enter your guess:  55\n"
     ]
    },
    {
     "name": "stdout",
     "output_type": "stream",
     "text": [
      "Too high! 📈\n"
     ]
    },
    {
     "name": "stdin",
     "output_type": "stream",
     "text": [
      "\n",
      "Enter your guess:  1\n"
     ]
    },
    {
     "name": "stdout",
     "output_type": "stream",
     "text": [
      "Too low! 📉\n"
     ]
    },
    {
     "name": "stdin",
     "output_type": "stream",
     "text": [
      "\n",
      "Enter your guess:  5\n"
     ]
    },
    {
     "name": "stdout",
     "output_type": "stream",
     "text": [
      "Too low! 📉\n"
     ]
    },
    {
     "name": "stdin",
     "output_type": "stream",
     "text": [
      "\n",
      "Enter your guess:  15\n"
     ]
    },
    {
     "name": "stdout",
     "output_type": "stream",
     "text": [
      "Too low! 📉\n"
     ]
    },
    {
     "name": "stdin",
     "output_type": "stream",
     "text": [
      "\n",
      "Enter your guess:  33\n"
     ]
    },
    {
     "name": "stdout",
     "output_type": "stream",
     "text": [
      "Too high! 📈\n"
     ]
    },
    {
     "name": "stdin",
     "output_type": "stream",
     "text": [
      "\n",
      "Enter your guess:  30\n"
     ]
    },
    {
     "name": "stdout",
     "output_type": "stream",
     "text": [
      "Too high! 📈\n"
     ]
    },
    {
     "name": "stdin",
     "output_type": "stream",
     "text": [
      "\n",
      "Enter your guess:  25\n"
     ]
    },
    {
     "name": "stdout",
     "output_type": "stream",
     "text": [
      "Too low! 📉\n"
     ]
    },
    {
     "name": "stdin",
     "output_type": "stream",
     "text": [
      "\n",
      "Enter your guess:  26\n"
     ]
    },
    {
     "name": "stdout",
     "output_type": "stream",
     "text": [
      "Too low! 📉\n"
     ]
    },
    {
     "name": "stdin",
     "output_type": "stream",
     "text": [
      "\n",
      "Enter your guess:  27\n"
     ]
    },
    {
     "name": "stdout",
     "output_type": "stream",
     "text": [
      "Too low! 📉\n"
     ]
    },
    {
     "name": "stdin",
     "output_type": "stream",
     "text": [
      "\n",
      "Enter your guess:  28\n"
     ]
    },
    {
     "name": "stdout",
     "output_type": "stream",
     "text": [
      "🎉 Correct! You guessed the number in 10 attempts.\n",
      "\n",
      "Thanks for playing! 👋\n"
     ]
    }
   ],
   "source": [
    "import random\n",
    "\n",
    "print(\"🎯 Welcome to the Guess the Number Game!\")\n",
    "\n",
    "\n",
    "print(\"\\nChoose difficulty level:\")\n",
    "print(\"1. Easy (1–50)\")\n",
    "print(\"2. Hard (1–500)\")\n",
    "\n",
    "choice = input(\"Enter 1 for Easy or 2 for Hard: \")\n",
    "\n",
    "if choice == \"1\":\n",
    "    number = random.randint(1, 50)\n",
    "    max_attempts = 10\n",
    "    print(\"\\nYou chose Easy mode! Guess a number between 1 and 50.\")\n",
    "elif choice == \"2\":\n",
    "    number = random.randint(1, 500)\n",
    "    max_attempts = 10\n",
    "    print(\"\\nYou chose Hard mode! Guess a number between 1 and 500.\")\n",
    "else:\n",
    "    print(\"\\nInvalid choice! Defaulting to Easy mode.\")\n",
    "    number = random.randint(1, 50)\n",
    "    max_attempts = 10\n",
    "\n",
    "attempts = 0\n",
    "\n",
    "while attempts < max_attempts:\n",
    "    guess = int(input(\"\\nEnter your guess: \"))\n",
    "    attempts += 1\n",
    "\n",
    "    if guess < number:\n",
    "        print(\"Too low! 📉\")\n",
    "    elif guess > number:\n",
    "        print(\"Too high! 📈\")\n",
    "    else:\n",
    "        print(f\"🎉 Correct! You guessed the number in {attempts} attempts.\")\n",
    "        break\n",
    "else:\n",
    "    print(f\"❌ Out of attempts! The number was {number}.\")\n",
    "\n",
    "print(\"\\nThanks for playing! 👋\")\n"
   ]
  },
  {
   "cell_type": "code",
   "execution_count": null,
   "id": "744a9bcc-206f-4dfb-9739-f8e516267c21",
   "metadata": {},
   "outputs": [],
   "source": []
  }
 ],
 "metadata": {
  "kernelspec": {
   "display_name": "Python 3 (ipykernel)",
   "language": "python",
   "name": "python3"
  },
  "language_info": {
   "codemirror_mode": {
    "name": "ipython",
    "version": 3
   },
   "file_extension": ".py",
   "mimetype": "text/x-python",
   "name": "python",
   "nbconvert_exporter": "python",
   "pygments_lexer": "ipython3",
   "version": "3.13.5"
  }
 },
 "nbformat": 4,
 "nbformat_minor": 5
}
