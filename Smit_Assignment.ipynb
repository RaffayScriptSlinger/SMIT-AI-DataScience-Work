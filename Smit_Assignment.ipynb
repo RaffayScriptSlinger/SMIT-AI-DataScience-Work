{
 "cells": [
  {
   "cell_type": "markdown",
   "id": "498fede2-bfad-4638-8957-37ced1b3b938",
   "metadata": {
    "jp-MarkdownHeadingCollapsed": true
   },
   "source": [
    "### Task No 1"
   ]
  },
  {
   "cell_type": "markdown",
   "id": "487f1b59-bfe3-4e01-842d-eb6b95c0a9e8",
   "metadata": {},
   "source": [
    " Count Digits, Letters, and Special Characters\n",
    "\n",
    "Ask the user to enter a string. Count how many letters, digits, and special characters it has.\n",
    "\n",
    "Hint: use isalpha(), isdigit(), and else"
   ]
  },
  {
   "cell_type": "code",
   "execution_count": 8,
   "id": "219a1265-1208-4f3f-b742-6388c376b195",
   "metadata": {},
   "outputs": [
    {
     "name": "stdin",
     "output_type": "stream",
     "text": [
      "Enter A text So i will calculate That How many Letters , Digites and Special Character Are There raffay@123\n"
     ]
    },
    {
     "name": "stdout",
     "output_type": "stream",
     "text": [
      "There are 6 Letters\n",
      "There are 3 digits\n",
      "There are 1 specialCharacter\n"
     ]
    }
   ],
   "source": [
    "text = input(\"Enter A text So i will calculate That How many Letters , Digites and Special Character Are There\")\n",
    "\n",
    "letters = 0 \n",
    "digits = 0\n",
    "specialCharacter = 0 \n",
    "\n",
    "for i in text:\n",
    "    if i.isalpha():\n",
    "        letters+=1\n",
    "    elif i.isdigit():\n",
    "        digits+=1\n",
    "    else:\n",
    "        specialCharacter+=1\n",
    "\n",
    "print(\"There are\" , letters , \"Letters\")\n",
    "print(\"There are\" , digits  , \"digits\")\n",
    "print(\"There are\" , specialCharacter , \"specialCharacter\" )"
   ]
  },
  {
   "cell_type": "markdown",
   "id": "d708e994-6855-47b5-ac01-e618bbbff2c4",
   "metadata": {
    "jp-MarkdownHeadingCollapsed": true
   },
   "source": [
    "### Task No 2 "
   ]
  },
  {
   "cell_type": "code",
   "execution_count": 14,
   "id": "4815afb7-c7f2-4b90-bad5-c4e62b53d6b9",
   "metadata": {},
   "outputs": [
    {
     "name": "stdin",
     "output_type": "stream",
     "text": [
      "Enter a Number That You want to Start 1\n",
      "Enter a Number That You want to end 30\n"
     ]
    },
    {
     "name": "stdout",
     "output_type": "stream",
     "text": [
      "4\n",
      "6\n",
      "8\n",
      "16\n",
      "18\n",
      "20\n",
      "28\n",
      "30\n"
     ]
    }
   ],
   "source": [
    "Start = int(input(\"Enter a Number That You want to Start\"))\n",
    "end = int(input(\"Enter a Number That You want to end\"))\n",
    "\n",
    "for i in range(Start,end+1):\n",
    "    if(i % 4 == 0 or i % 6 == 0 ) and not (i % 4 == 0 and i % 6 == 0 ):\n",
    "        print(i)"
   ]
  },
  {
   "cell_type": "markdown",
   "id": "15c07eae-340f-4598-a2d8-1e0be316f0a9",
   "metadata": {
    "jp-MarkdownHeadingCollapsed": true
   },
   "source": [
    "### Task No 3"
   ]
  },
  {
   "cell_type": "code",
   "execution_count": 17,
   "id": "d3bb32a7-fce2-4618-ab2f-ea712a5b83fa",
   "metadata": {},
   "outputs": [
    {
     "name": "stdin",
     "output_type": "stream",
     "text": [
      "Enter A sentence So I will Calculate That How Many UpperCase And LowerCase Letters Are There Raffay Sharjeel Rehan 12\n"
     ]
    },
    {
     "name": "stdout",
     "output_type": "stream",
     "text": [
      "Number Of  UpperCase Characters Are  3\n",
      "Number Of  LowerCase Characters Are  16\n",
      "Number Of  specialCharacterOrNumbers Characters Are  5\n"
     ]
    }
   ],
   "source": [
    "sentence = input(\"Enter A sentence So I will Calculate That How Many UpperCase And LowerCase Letters Are There\")\n",
    "upperCase = 0\n",
    "lowerCase = 0 \n",
    "specialCharacterOrNumbers = 0;\n",
    "\n",
    "for i in sentence:\n",
    "    if i.isupper():\n",
    "        upperCase +=1\n",
    "    elif i.islower():\n",
    "        lowerCase +=1\n",
    "    else:\n",
    "        specialCharacterOrNumbers +=1\n",
    "\n",
    "print(\"Number Of  UpperCase Characters Are \",upperCase )\n",
    "print(\"Number Of  LowerCase Characters Are \",lowerCase )\n",
    "print(\"Number Of  specialCharacterOrNumbers Characters Are \",specialCharacterOrNumbers )\n",
    "\n",
    "    "
   ]
  },
  {
   "cell_type": "markdown",
   "id": "b1db195a-1c03-4b11-9eb1-42e445cae820",
   "metadata": {
    "jp-MarkdownHeadingCollapsed": true
   },
   "source": [
    "### Task No 4"
   ]
  },
  {
   "cell_type": "code",
   "execution_count": 31,
   "id": "79c942c0-bdeb-451f-9ec1-edc1c5ead1e6",
   "metadata": {},
   "outputs": [
    {
     "name": "stdin",
     "output_type": "stream",
     "text": [
      "Enter Any Word So i Can remover Vovels With * aeiUOI\n"
     ]
    },
    {
     "name": "stdout",
     "output_type": "stream",
     "text": [
      "******\n"
     ]
    }
   ],
   "source": [
    "Word = input(\"Enter Any Word So i Can remover Vovels With *\")\n",
    "vowelsList = [\"a\",\"e\",\"i\",\"o\",\"u\",\"A\",\"E\",\"I\",\"O\",\"U\"]\n",
    "\n",
    "newWord = \"\"\n",
    "\n",
    "for i in Word:\n",
    "    if i in vowelsList:\n",
    "        newWord += \"*\"\n",
    "    else:\n",
    "        newWord += i\n",
    "\n",
    "print(newWord)\n",
    "\n",
    "\n",
    "    "
   ]
  },
  {
   "cell_type": "markdown",
   "id": "15758757-baee-400e-9841-576a4e3b4f0b",
   "metadata": {
    "jp-MarkdownHeadingCollapsed": true
   },
   "source": [
    "### Task No 5"
   ]
  },
  {
   "cell_type": "code",
   "execution_count": 35,
   "id": "386f1538-4545-4a90-b036-869d8d9553bc",
   "metadata": {},
   "outputs": [
    {
     "name": "stdin",
     "output_type": "stream",
     "text": [
      "Input A Text That Contains Both character and numbers And The I will Calculate The Sum Of Total Numbers  r1a2f3\n"
     ]
    },
    {
     "name": "stdout",
     "output_type": "stream",
     "text": [
      "The Sum Of Total Numbers Are  6\n"
     ]
    }
   ],
   "source": [
    "text = input(\"Input A Text That Contains Both character and numbers And The I will Calculate The Sum Of Total Numbers \")\n",
    "\n",
    "total = 0\n",
    "\n",
    "for i in text:\n",
    "    if i.isdigit():\n",
    "        total += int(i)\n",
    "\n",
    "print(\"The Sum Of Total Numbers Are \",total)\n",
    "\n"
   ]
  },
  {
   "cell_type": "markdown",
   "id": "6274a756-95be-4b00-8817-82ba61ad1097",
   "metadata": {
    "jp-MarkdownHeadingCollapsed": true
   },
   "source": [
    "### Task No 6"
   ]
  },
  {
   "cell_type": "code",
   "execution_count": 43,
   "id": "7abb9a98-38db-49a7-a838-f45757e1f734",
   "metadata": {},
   "outputs": [
    {
     "name": "stdin",
     "output_type": "stream",
     "text": [
      "Input a sentence and I will count how many words begin with a vowel. User Is Omer\n"
     ]
    },
    {
     "name": "stdout",
     "output_type": "stream",
     "text": [
      "The Number Words Starts With Vowels is  3\n"
     ]
    }
   ],
   "source": [
    "text = input(\"Input a sentence and I will count how many words begin with a vowel.\")\n",
    "vowelsList = [\"a\",\"e\",\"i\",\"o\",\"u\",\"A\",\"E\",\"I\",\"O\",\"U\"]\n",
    "\n",
    "splitedText =  text.split()\n",
    "beginWithVowel = 0\n",
    "\n",
    "\n",
    "for i in splitedText:\n",
    "    if i.startswith(tuple(vowelsList)):\n",
    "        beginWithVowel += 1\n",
    "\n",
    "print(\"The Number Words Starts With Vowels is \",beginWithVowel)\n",
    "      \n",
    "    "
   ]
  },
  {
   "cell_type": "markdown",
   "id": "dc4457ce-aac6-4b9a-88b3-e6d3012eb72f",
   "metadata": {
    "jp-MarkdownHeadingCollapsed": true
   },
   "source": [
    "### Task No 7"
   ]
  },
  {
   "cell_type": "code",
   "execution_count": 13,
   "id": "9d247929-5f17-461b-81ca-a36bd9caf64a",
   "metadata": {},
   "outputs": [
    {
     "name": "stdin",
     "output_type": "stream",
     "text": [
      "Enter A nuber From You Want to start 10\n",
      "Enter A nuber From You Want to End 30\n"
     ]
    },
    {
     "name": "stdout",
     "output_type": "stream",
     "text": [
      "11 13 15 17 19 20 22 24 26 28 "
     ]
    }
   ],
   "source": [
    "start = int(input(\"Enter A nuber From You Want to start\"))\n",
    "End = int(input(\"Enter A nuber From You Want to End\"))\n",
    "\n",
    "for i in range(start,End +1):\n",
    "    digitSum = 0 \n",
    "    for d in str(i):\n",
    "        digitSum+=int(d)\n",
    "\n",
    "    if digitSum % 2 == 0 :\n",
    "        print(i ,end= \" \")\n",
    "\n",
    "        \n",
    "\n",
    "\n",
    "\n"
   ]
  },
  {
   "cell_type": "markdown",
   "id": "5255004d-6aef-4142-9418-09dc4c450593",
   "metadata": {
    "jp-MarkdownHeadingCollapsed": true
   },
   "source": [
    "### Task No 8"
   ]
  },
  {
   "cell_type": "code",
   "execution_count": 16,
   "id": "72b97594-864c-4a03-a158-979dedda6f08",
   "metadata": {},
   "outputs": [
    {
     "name": "stdin",
     "output_type": "stream",
     "text": [
      "Enter Any Word So I will sorted it alhabatically Raffay\n"
     ]
    },
    {
     "name": "stdout",
     "output_type": "stream",
     "text": [
      "R : 1\n",
      "a : 2\n",
      "f : 2\n",
      "y : 1\n"
     ]
    }
   ],
   "source": [
    "varInput = input(\"Enter Any Word So I will sorted it alhabatically\")\n",
    "\n",
    "varInputCount = {}\n",
    "\n",
    "for i in varInput:\n",
    "    if i in varInputCount:\n",
    "     varInputCount[i] += 1\n",
    "    else:\n",
    "         varInputCount[i] = 1\n",
    "\n",
    "for ch in sorted(varInputCount.keys()):\n",
    "    print(ch, \":\", varInputCount[ch])"
   ]
  },
  {
   "cell_type": "markdown",
   "id": "95b53339-f44e-40d1-ac77-0ab926a3e6ea",
   "metadata": {
    "jp-MarkdownHeadingCollapsed": true
   },
   "source": [
    "### Task No 9"
   ]
  },
  {
   "cell_type": "code",
   "execution_count": 22,
   "id": "7339ea80-b84b-42dc-a6b3-5af7ba39ad50",
   "metadata": {},
   "outputs": [
    {
     "name": "stdin",
     "output_type": "stream",
     "text": [
      "Enter A nuber From You Want to start 1\n",
      "Enter A nuber From You Want to End 40\n"
     ]
    },
    {
     "name": "stdout",
     "output_type": "stream",
     "text": [
      "3\n",
      "13\n",
      "23\n",
      "30\n",
      "31\n",
      "32\n",
      "33\n",
      "34\n",
      "35\n",
      "36\n",
      "37\n",
      "38\n",
      "39\n"
     ]
    }
   ],
   "source": [
    "start = int(input(\"Enter A nuber From You Want to start\"))\n",
    "End = int(input(\"Enter A nuber From You Want to End\"))\n",
    "\n",
    "for i in range(start , End + 1):\n",
    "    if  \"3\" in str(i):\n",
    "     print(i)"
   ]
  },
  {
   "cell_type": "markdown",
   "id": "d51bff59-7408-4e57-99b2-43bca5ee8779",
   "metadata": {
    "jp-MarkdownHeadingCollapsed": true
   },
   "source": [
    "### Task No 10"
   ]
  },
  {
   "cell_type": "code",
   "execution_count": 23,
   "id": "5ffc31d3-aa30-47a9-b9b8-f635b8150125",
   "metadata": {},
   "outputs": [
    {
     "name": "stdin",
     "output_type": "stream",
     "text": [
      "Enter start of range:  10\n",
      "Enter end of range:  30\n"
     ]
    },
    {
     "name": "stdout",
     "output_type": "stream",
     "text": [
      "16 30 "
     ]
    }
   ],
   "source": [
    "start = int(input(\"Enter start of range: \"))\n",
    "end = int(input(\"Enter end of range: \"))\n",
    "\n",
    "for i in range(start, end + 1):\n",
    "    \n",
    "    if (i % 4 == 0 or i % 6 == 0) and not (i % 4 == 0 and i % 6 == 0):\n",
    "        \n",
    "        digit_sum = sum(int(d) for d in str(i))\n",
    "\n",
    "        \n",
    "        if digit_sum % 2 != 0:\n",
    "            if i % 9 != 0:\n",
    "                print(i, end=\" \")\n"
   ]
  },
  {
   "cell_type": "code",
   "execution_count": null,
   "id": "65d1ed32-06a5-4084-a5dc-d11246352211",
   "metadata": {},
   "outputs": [],
   "source": []
  }
 ],
 "metadata": {
  "kernelspec": {
   "display_name": "Python 3 (ipykernel)",
   "language": "python",
   "name": "python3"
  },
  "language_info": {
   "codemirror_mode": {
    "name": "ipython",
    "version": 3
   },
   "file_extension": ".py",
   "mimetype": "text/x-python",
   "name": "python",
   "nbconvert_exporter": "python",
   "pygments_lexer": "ipython3",
   "version": "3.13.5"
  }
 },
 "nbformat": 4,
 "nbformat_minor": 5
}
